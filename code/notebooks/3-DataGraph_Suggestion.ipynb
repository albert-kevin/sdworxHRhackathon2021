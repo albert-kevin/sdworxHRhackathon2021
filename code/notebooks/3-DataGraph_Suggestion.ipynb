{
 "cells": [
  {
   "cell_type": "markdown",
   "id": "mathematical-union",
   "metadata": {},
   "source": [
    "Author: Kevin ALBERT\n",
    "\n",
    "Created: Feb 2021"
   ]
  },
  {
   "cell_type": "code",
   "execution_count": 1,
   "id": "theoretical-insert",
   "metadata": {},
   "outputs": [],
   "source": [
    "from py2neo import Graph, Node, Relationship\n",
    "import pandas as pd\n",
    "from IPython.display import Javascript\n",
    "from fuzzywuzzy import process, fuzz"
   ]
  },
  {
   "cell_type": "code",
   "execution_count": 2,
   "id": "egyptian-green",
   "metadata": {},
   "outputs": [],
   "source": [
    "import platform\n",
    "import psutil\n",
    "import os"
   ]
  },
  {
   "cell_type": "code",
   "execution_count": 3,
   "id": "basic-european",
   "metadata": {},
   "outputs": [
    {
     "name": "stdout",
     "output_type": "stream",
     "text": [
      "conda : 4.9.2\n",
      "pip   : 21.0.1\n",
      "python: 3.8.6\n",
      "pandas: 1.2.1\n",
      "py2neo: 4.2.0\n"
     ]
    }
   ],
   "source": [
    "conda_version = ! conda -V\n",
    "print(f\"conda : {conda_version[0].split()[1]}\")\n",
    "pip_version = ! pip -V\n",
    "print(f\"pip   : {pip_version[0].split()[1]}\")\n",
    "python_version = ! python -V\n",
    "print(f\"python: {python_version[0].split()[1]}\")\n",
    "pandas_version = ! pip list |grep -i pandas\n",
    "print(f\"pandas: {pandas_version[0].split()[1]}\")\n",
    "py2neo_version = ! pip list |grep -i py2neo\n",
    "print(f\"py2neo: {py2neo_version[0].split()[1]}\")"
   ]
  },
  {
   "cell_type": "code",
   "execution_count": 4,
   "id": "applicable-logan",
   "metadata": {},
   "outputs": [],
   "source": [
    "server  = \"168.63.44.210\"\n",
    "port    = \"7687\"\n",
    "user    = \"neo4j\"\n",
    "passw   = \"digityser\"\n",
    "db_name = \"neo4j\"        # default name (v4.x)"
   ]
  },
  {
   "cell_type": "code",
   "execution_count": 5,
   "id": "effective-aquatic",
   "metadata": {},
   "outputs": [],
   "source": [
    "# load graph connection instance\n",
    "graph = Graph(host=server, auth=(user, passw), name=db_name, encrypted=False)"
   ]
  },
  {
   "cell_type": "markdown",
   "id": "uniform-singapore",
   "metadata": {},
   "source": [
    "## prepare data\n",
    "We may be trying to do it for all 3 dataset groups !"
   ]
  },
  {
   "cell_type": "code",
   "execution_count": 6,
   "id": "scientific-intensity",
   "metadata": {},
   "outputs": [],
   "source": [
    "# import the datasets\n",
    "synthetic_df = pd.read_parquet(\"../../data/silver/synthetic_data_processed.parquet\")\n",
    "entities_df = pd.read_parquet(\"../../data/bronze/entities_Any_Additional_Suggestion_To_Improve.parquet\")\n",
    "sentiment_df = pd.read_parquet(\"../../data/bronze/sentiment_Any_Additional_Suggestion_To_Improve.parquet\")\n",
    "keyphrase_df = pd.read_parquet(\"../../data/bronze/key_phrases_Any_Additional_Suggestion_To_Improve.parquet\")"
   ]
  },
  {
   "cell_type": "code",
   "execution_count": 7,
   "id": "instructional-biology",
   "metadata": {},
   "outputs": [],
   "source": [
    "# creating unique patient ID\n",
    "synthetic_df[\"id\"] = synthetic_df.index"
   ]
  },
  {
   "cell_type": "code",
   "execution_count": 8,
   "id": "hired-destruction",
   "metadata": {},
   "outputs": [],
   "source": [
    "# replace nan\n",
    "synthetic_df['What_Felt_Best_During_This_Last_Month'] = synthetic_df['What_Felt_Best_During_This_Last_Month'].fillna('No Feeling')\n",
    "synthetic_df['What_Should_We_Do_To_Make_You_Feel_Better_And_Increase_Your_Overall_Satisfaction'] = synthetic_df['What_Should_We_Do_To_Make_You_Feel_Better_And_Increase_Your_Overall_Satisfaction'].fillna('No Satisfaction')\n",
    "synthetic_df['Any_Additional_Suggestion_To_Improve'] = synthetic_df['Any_Additional_Suggestion_To_Improve'].fillna('No Improvement')"
   ]
  },
  {
   "cell_type": "code",
   "execution_count": 9,
   "id": "purple-christopher",
   "metadata": {},
   "outputs": [
    {
     "data": {
      "text/html": [
       "<div>\n",
       "<style scoped>\n",
       "    .dataframe tbody tr th:only-of-type {\n",
       "        vertical-align: middle;\n",
       "    }\n",
       "\n",
       "    .dataframe tbody tr th {\n",
       "        vertical-align: top;\n",
       "    }\n",
       "\n",
       "    .dataframe thead th {\n",
       "        text-align: right;\n",
       "    }\n",
       "</style>\n",
       "<table border=\"1\" class=\"dataframe\">\n",
       "  <thead>\n",
       "    <tr style=\"text-align: right;\">\n",
       "      <th></th>\n",
       "      <th>email</th>\n",
       "      <th>full_name</th>\n",
       "      <th>how_was_your_last_month_in_your_assignment</th>\n",
       "      <th>How_Was_Your_Last_Month_Within_Your_Department</th>\n",
       "      <th>How_Was_Your_Last_Month_With_Us</th>\n",
       "      <th>What_Felt_Best_During_This_Last_Month</th>\n",
       "      <th>What_Should_We_Do_To_Make_You_Feel_Better_And_Increase_Your_Overall_Satisfaction</th>\n",
       "      <th>Any_Additional_Suggestion_To_Improve</th>\n",
       "      <th>any_additional_comments</th>\n",
       "      <th>I_Would_Like_To_Get_Called_By</th>\n",
       "      <th>I_Would_Like_To_Provide_A_Copy_Of_My_Answers_To</th>\n",
       "      <th>id</th>\n",
       "    </tr>\n",
       "  </thead>\n",
       "  <tbody>\n",
       "    <tr>\n",
       "      <th>0</th>\n",
       "      <td>Lorem.ipsum@congueelit.ca</td>\n",
       "      <td>Harrison</td>\n",
       "      <td>4</td>\n",
       "      <td>4</td>\n",
       "      <td>4</td>\n",
       "      <td>collaborating closely with Damien,  closing th...</td>\n",
       "      <td>keep the good vibes, the trust and open commun...</td>\n",
       "      <td>more sync between the different departments</td>\n",
       "      <td>NaN</td>\n",
       "      <td>NaN</td>\n",
       "      <td>NaN</td>\n",
       "      <td>0</td>\n",
       "    </tr>\n",
       "    <tr>\n",
       "      <th>1</th>\n",
       "      <td>elit.elit.fermentum@Crasinterdum.ca</td>\n",
       "      <td>Clinton</td>\n",
       "      <td>4</td>\n",
       "      <td>4</td>\n",
       "      <td>4</td>\n",
       "      <td>being promoted</td>\n",
       "      <td>maintain the good collaboration</td>\n",
       "      <td>keep up the good energy</td>\n",
       "      <td>NaN</td>\n",
       "      <td>NaN</td>\n",
       "      <td>NaN</td>\n",
       "      <td>1</td>\n",
       "    </tr>\n",
       "    <tr>\n",
       "      <th>2</th>\n",
       "      <td>semper@mi.com</td>\n",
       "      <td>Scott</td>\n",
       "      <td>3</td>\n",
       "      <td>3</td>\n",
       "      <td>2</td>\n",
       "      <td>team building we had last month</td>\n",
       "      <td>more consideration for the employes, making th...</td>\n",
       "      <td>Don’t be friends during work hours.</td>\n",
       "      <td>NaN</td>\n",
       "      <td>NaN</td>\n",
       "      <td>NaN</td>\n",
       "      <td>2</td>\n",
       "    </tr>\n",
       "    <tr>\n",
       "      <th>3</th>\n",
       "      <td>tellus.non@velsapien.co.uk</td>\n",
       "      <td>Russell</td>\n",
       "      <td>1</td>\n",
       "      <td>1</td>\n",
       "      <td>1</td>\n",
       "      <td>not much for me</td>\n",
       "      <td>I don't feel that my skills and capacities are...</td>\n",
       "      <td>If a few managers took a chill pill.</td>\n",
       "      <td>NaN</td>\n",
       "      <td>NaN</td>\n",
       "      <td>NaN</td>\n",
       "      <td>3</td>\n",
       "    </tr>\n",
       "    <tr>\n",
       "      <th>4</th>\n",
       "      <td>vitae@nisinibhlacinia.ca</td>\n",
       "      <td>Kane</td>\n",
       "      <td>4</td>\n",
       "      <td>4</td>\n",
       "      <td>3</td>\n",
       "      <td>getting to work with you guys is a real pleasure</td>\n",
       "      <td>less micro management</td>\n",
       "      <td>I would like to talk to the managers just to s...</td>\n",
       "      <td>NaN</td>\n",
       "      <td>NaN</td>\n",
       "      <td>NaN</td>\n",
       "      <td>4</td>\n",
       "    </tr>\n",
       "    <tr>\n",
       "      <th>...</th>\n",
       "      <td>...</td>\n",
       "      <td>...</td>\n",
       "      <td>...</td>\n",
       "      <td>...</td>\n",
       "      <td>...</td>\n",
       "      <td>...</td>\n",
       "      <td>...</td>\n",
       "      <td>...</td>\n",
       "      <td>...</td>\n",
       "      <td>...</td>\n",
       "      <td>...</td>\n",
       "      <td>...</td>\n",
       "    </tr>\n",
       "    <tr>\n",
       "      <th>95</th>\n",
       "      <td>erat.vel@egestasrhoncusProin.edu</td>\n",
       "      <td>Victor</td>\n",
       "      <td>4</td>\n",
       "      <td>4</td>\n",
       "      <td>2</td>\n",
       "      <td>No Feeling</td>\n",
       "      <td>No Satisfaction</td>\n",
       "      <td>No Improvement</td>\n",
       "      <td>NaN</td>\n",
       "      <td>NaN</td>\n",
       "      <td>NaN</td>\n",
       "      <td>95</td>\n",
       "    </tr>\n",
       "    <tr>\n",
       "      <th>96</th>\n",
       "      <td>In@vitaeorci.net</td>\n",
       "      <td>Gareth</td>\n",
       "      <td>2</td>\n",
       "      <td>2</td>\n",
       "      <td>1</td>\n",
       "      <td>No Feeling</td>\n",
       "      <td>No Satisfaction</td>\n",
       "      <td>No Improvement</td>\n",
       "      <td>NaN</td>\n",
       "      <td>NaN</td>\n",
       "      <td>NaN</td>\n",
       "      <td>96</td>\n",
       "    </tr>\n",
       "    <tr>\n",
       "      <th>97</th>\n",
       "      <td>elementum@necurnaet.ca</td>\n",
       "      <td>Avram</td>\n",
       "      <td>4</td>\n",
       "      <td>4</td>\n",
       "      <td>4</td>\n",
       "      <td>No Feeling</td>\n",
       "      <td>No Satisfaction</td>\n",
       "      <td>No Improvement</td>\n",
       "      <td>NaN</td>\n",
       "      <td>NaN</td>\n",
       "      <td>NaN</td>\n",
       "      <td>97</td>\n",
       "    </tr>\n",
       "    <tr>\n",
       "      <th>98</th>\n",
       "      <td>quis.pede.Suspendisse@risus.edu</td>\n",
       "      <td>Coby</td>\n",
       "      <td>4</td>\n",
       "      <td>4</td>\n",
       "      <td>4</td>\n",
       "      <td>No Feeling</td>\n",
       "      <td>No Satisfaction</td>\n",
       "      <td>No Improvement</td>\n",
       "      <td>NaN</td>\n",
       "      <td>NaN</td>\n",
       "      <td>NaN</td>\n",
       "      <td>98</td>\n",
       "    </tr>\n",
       "    <tr>\n",
       "      <th>99</th>\n",
       "      <td>enim@ridiculusmusProin.org</td>\n",
       "      <td>Hector</td>\n",
       "      <td>4</td>\n",
       "      <td>4</td>\n",
       "      <td>2</td>\n",
       "      <td>No Feeling</td>\n",
       "      <td>No Satisfaction</td>\n",
       "      <td>No Improvement</td>\n",
       "      <td>NaN</td>\n",
       "      <td>NaN</td>\n",
       "      <td>NaN</td>\n",
       "      <td>99</td>\n",
       "    </tr>\n",
       "  </tbody>\n",
       "</table>\n",
       "<p>100 rows × 12 columns</p>\n",
       "</div>"
      ],
      "text/plain": [
       "                                  email full_name  \\\n",
       "0             Lorem.ipsum@congueelit.ca  Harrison   \n",
       "1   elit.elit.fermentum@Crasinterdum.ca   Clinton   \n",
       "2                         semper@mi.com     Scott   \n",
       "3            tellus.non@velsapien.co.uk   Russell   \n",
       "4              vitae@nisinibhlacinia.ca      Kane   \n",
       "..                                  ...       ...   \n",
       "95     erat.vel@egestasrhoncusProin.edu    Victor   \n",
       "96                     In@vitaeorci.net    Gareth   \n",
       "97               elementum@necurnaet.ca     Avram   \n",
       "98      quis.pede.Suspendisse@risus.edu      Coby   \n",
       "99           enim@ridiculusmusProin.org    Hector   \n",
       "\n",
       "    how_was_your_last_month_in_your_assignment  \\\n",
       "0                                            4   \n",
       "1                                            4   \n",
       "2                                            3   \n",
       "3                                            1   \n",
       "4                                            4   \n",
       "..                                         ...   \n",
       "95                                           4   \n",
       "96                                           2   \n",
       "97                                           4   \n",
       "98                                           4   \n",
       "99                                           4   \n",
       "\n",
       "    How_Was_Your_Last_Month_Within_Your_Department  \\\n",
       "0                                                4   \n",
       "1                                                4   \n",
       "2                                                3   \n",
       "3                                                1   \n",
       "4                                                4   \n",
       "..                                             ...   \n",
       "95                                               4   \n",
       "96                                               2   \n",
       "97                                               4   \n",
       "98                                               4   \n",
       "99                                               4   \n",
       "\n",
       "    How_Was_Your_Last_Month_With_Us  \\\n",
       "0                                 4   \n",
       "1                                 4   \n",
       "2                                 2   \n",
       "3                                 1   \n",
       "4                                 3   \n",
       "..                              ...   \n",
       "95                                2   \n",
       "96                                1   \n",
       "97                                4   \n",
       "98                                4   \n",
       "99                                2   \n",
       "\n",
       "                What_Felt_Best_During_This_Last_Month  \\\n",
       "0   collaborating closely with Damien,  closing th...   \n",
       "1                                      being promoted   \n",
       "2                     team building we had last month   \n",
       "3                                     not much for me   \n",
       "4    getting to work with you guys is a real pleasure   \n",
       "..                                                ...   \n",
       "95                                         No Feeling   \n",
       "96                                         No Feeling   \n",
       "97                                         No Feeling   \n",
       "98                                         No Feeling   \n",
       "99                                         No Feeling   \n",
       "\n",
       "   What_Should_We_Do_To_Make_You_Feel_Better_And_Increase_Your_Overall_Satisfaction  \\\n",
       "0   keep the good vibes, the trust and open commun...                                 \n",
       "1                     maintain the good collaboration                                 \n",
       "2   more consideration for the employes, making th...                                 \n",
       "3   I don't feel that my skills and capacities are...                                 \n",
       "4                               less micro management                                 \n",
       "..                                                ...                                 \n",
       "95                                    No Satisfaction                                 \n",
       "96                                    No Satisfaction                                 \n",
       "97                                    No Satisfaction                                 \n",
       "98                                    No Satisfaction                                 \n",
       "99                                    No Satisfaction                                 \n",
       "\n",
       "                 Any_Additional_Suggestion_To_Improve  \\\n",
       "0         more sync between the different departments   \n",
       "1                             keep up the good energy   \n",
       "2                 Don’t be friends during work hours.   \n",
       "3                If a few managers took a chill pill.   \n",
       "4   I would like to talk to the managers just to s...   \n",
       "..                                                ...   \n",
       "95                                     No Improvement   \n",
       "96                                     No Improvement   \n",
       "97                                     No Improvement   \n",
       "98                                     No Improvement   \n",
       "99                                     No Improvement   \n",
       "\n",
       "    any_additional_comments  I_Would_Like_To_Get_Called_By  \\\n",
       "0                       NaN                            NaN   \n",
       "1                       NaN                            NaN   \n",
       "2                       NaN                            NaN   \n",
       "3                       NaN                            NaN   \n",
       "4                       NaN                            NaN   \n",
       "..                      ...                            ...   \n",
       "95                      NaN                            NaN   \n",
       "96                      NaN                            NaN   \n",
       "97                      NaN                            NaN   \n",
       "98                      NaN                            NaN   \n",
       "99                      NaN                            NaN   \n",
       "\n",
       "    I_Would_Like_To_Provide_A_Copy_Of_My_Answers_To  id  \n",
       "0                                               NaN   0  \n",
       "1                                               NaN   1  \n",
       "2                                               NaN   2  \n",
       "3                                               NaN   3  \n",
       "4                                               NaN   4  \n",
       "..                                              ...  ..  \n",
       "95                                              NaN  95  \n",
       "96                                              NaN  96  \n",
       "97                                              NaN  97  \n",
       "98                                              NaN  98  \n",
       "99                                              NaN  99  \n",
       "\n",
       "[100 rows x 12 columns]"
      ]
     },
     "execution_count": 9,
     "metadata": {},
     "output_type": "execute_result"
    }
   ],
   "source": [
    "synthetic_df"
   ]
  },
  {
   "cell_type": "code",
   "execution_count": 10,
   "id": "expensive-stanford",
   "metadata": {},
   "outputs": [
    {
     "data": {
      "text/plain": [
       "email                                                                                 0.0\n",
       "full_name                                                                             0.0\n",
       "how_was_your_last_month_in_your_assignment                                            0.0\n",
       "How_Was_Your_Last_Month_Within_Your_Department                                        0.0\n",
       "How_Was_Your_Last_Month_With_Us                                                       0.0\n",
       "What_Felt_Best_During_This_Last_Month                                                 0.0\n",
       "What_Should_We_Do_To_Make_You_Feel_Better_And_Increase_Your_Overall_Satisfaction      0.0\n",
       "Any_Additional_Suggestion_To_Improve                                                  0.0\n",
       "id                                                                                    0.0\n",
       "any_additional_comments                                                             100.0\n",
       "I_Would_Like_To_Get_Called_By                                                       100.0\n",
       "I_Would_Like_To_Provide_A_Copy_Of_My_Answers_To                                     100.0\n",
       "dtype: float64"
      ]
     },
     "execution_count": 10,
     "metadata": {},
     "output_type": "execute_result"
    }
   ],
   "source": [
    "# count missing values, sorted (high missing > 5%)\n",
    "synthetic_df.isnull().apply(lambda x: x.sum() * 100 / len(synthetic_df)).round(1).sort_values(ascending=True)"
   ]
  },
  {
   "cell_type": "code",
   "execution_count": 12,
   "id": "announced-former",
   "metadata": {},
   "outputs": [],
   "source": [
    "# save file to database /import\n",
    "file_synthetic = \"synthetic_data_processed.csv\"\n",
    "synthetic_df.to_csv(\"../../neo4j/import/\"+file_synthetic, sep=',', index=False)\n",
    "\n",
    "file_entities1 = \"entities1.csv\"\n",
    "entities_df.to_csv(\"../../neo4j/import/\"+file_entities1, sep=',', index=False)\n",
    "\n",
    "file_sentiment1 = \"sentiment1.csv\"\n",
    "sentiment_df.to_csv(\"../../neo4j/import/\"+file_sentiment1, sep=',', index=False)\n",
    "\n",
    "file_keyphrase1 = \"keyphrases1.csv\"\n",
    "keyphrase_df.to_csv(\"../../neo4j/import/\"+file_keyphrase1, sep=',', index=False)"
   ]
  },
  {
   "cell_type": "markdown",
   "id": "selected-excuse",
   "metadata": {},
   "source": [
    "## import data in DB\n",
    "\n",
    "[link to arrows data modeling tool](https://arrows.app/#/import/json=eyJncmFwaCI6eyJzdHlsZSI6eyJub2RlLWNvbG9yIjoiIzRDOEVEQSIsImJvcmRlci13aWR0aCI6MCwiYm9yZGVyLWNvbG9yIjoiIzAwMDAwMCIsInJhZGl1cyI6NzUsIm5vZGUtcGFkZGluZyI6NSwib3V0c2lkZS1wb3NpdGlvbiI6ImF1dG8iLCJjYXB0aW9uLXBvc2l0aW9uIjoiaW5zaWRlIiwiY2FwdGlvbi1tYXgtd2lkdGgiOjIwMCwiY2FwdGlvbi1jb2xvciI6IiNmZmZmZmYiLCJjYXB0aW9uLWZvbnQtc2l6ZSI6MjAsImNhcHRpb24tZm9udC13ZWlnaHQiOiJub3JtYWwiLCJsYWJlbC1wb3NpdGlvbiI6Imluc2lkZSIsImxhYmVsLWNvbG9yIjoiIzAwMDAwMCIsImxhYmVsLWJhY2tncm91bmQtY29sb3IiOiIjZmZmZmZmIiwibGFiZWwtYm9yZGVyLWNvbG9yIjoiIzg0ODQ4NCIsImxhYmVsLWJvcmRlci13aWR0aCI6MywibGFiZWwtZm9udC1zaXplIjoyMCwibGFiZWwtcGFkZGluZyI6NSwibGFiZWwtbWFyZ2luIjo0LCJkaXJlY3Rpb25hbGl0eSI6ImRpcmVjdGVkIiwiZGV0YWlsLXBvc2l0aW9uIjoiYWJvdmUiLCJkZXRhaWwtb3JpZW50YXRpb24iOiJwYXJhbGxlbCIsImFycm93LXdpZHRoIjozLCJhcnJvdy1jb2xvciI6IiM4NDg0ODQiLCJtYXJnaW4tc3RhcnQiOjUsIm1hcmdpbi1lbmQiOjUsIm1hcmdpbi1wZWVyIjoyMCwiYXR0YWNobWVudC1zdGFydCI6Im5vcm1hbCIsImF0dGFjaG1lbnQtZW5kIjoibm9ybWFsIiwidHlwZS1jb2xvciI6IiM4NDg0ODQiLCJ0eXBlLWJhY2tncm91bmQtY29sb3IiOiIjZmZmZmZmIiwidHlwZS1ib3JkZXItY29sb3IiOiIjODQ4NDg0IiwidHlwZS1ib3JkZXItd2lkdGgiOjAsInR5cGUtZm9udC1zaXplIjoyMSwidHlwZS1wYWRkaW5nIjo1LCJwcm9wZXJ0eS1wb3NpdGlvbiI6Im91dHNpZGUiLCJwcm9wZXJ0eS1jb2xvciI6IiM4NDg0ODQiLCJwcm9wZXJ0eS1mb250LXNpemUiOjIwLCJwcm9wZXJ0eS1mb250LXdlaWdodCI6Im5vcm1hbCJ9LCJub2RlcyI6W3siaWQiOiJuMCIsInBvc2l0aW9uIjp7IngiOjAsInkiOjB9LCJjYXB0aW9uIjoiRW1wbG95ZWUiLCJzdHlsZSI6e30sImxhYmVscyI6W10sInByb3BlcnRpZXMiOnt9fV0sInJlbGF0aW9uc2hpcHMiOltdfSwiZGlhZ3JhbU5hbWUiOiJzZHdvcnhIUmhhY2thdGhvbjIwMjFfZGF0YU1vZGVsIn0=)"
   ]
  },
  {
   "cell_type": "code",
   "execution_count": 13,
   "id": "mobile-usage",
   "metadata": {},
   "outputs": [
    {
     "data": {
      "text/plain": [
       "<py2neo.database.Cursor at 0x7fea6c0528b0>"
      ]
     },
     "execution_count": 13,
     "metadata": {},
     "output_type": "execute_result"
    }
   ],
   "source": [
    "graph.run(\"CREATE CONSTRAINT ON (e:Employee) ASSERT e.id IS UNIQUE\")"
   ]
  },
  {
   "cell_type": "code",
   "execution_count": 14,
   "id": "expressed-coast",
   "metadata": {},
   "outputs": [
    {
     "data": {
      "text/plain": [
       "<py2neo.database.Cursor at 0x7fea6c052430>"
      ]
     },
     "execution_count": 14,
     "metadata": {},
     "output_type": "execute_result"
    }
   ],
   "source": [
    "graph.run(\"CREATE CONSTRAINT ON (a:Assignmentscore) ASSERT a.value IS UNIQUE\")"
   ]
  },
  {
   "cell_type": "code",
   "execution_count": 15,
   "id": "rough-diversity",
   "metadata": {},
   "outputs": [
    {
     "data": {
      "text/plain": [
       "constraints_added: 0\n",
       "constraints_removed: 0\n",
       "contains_updates: True\n",
       "indexes_added: 0\n",
       "indexes_removed: 0\n",
       "labels_added: 104\n",
       "labels_removed: 0\n",
       "nodes_created: 104\n",
       "nodes_deleted: 0\n",
       "properties_set: 304\n",
       "relationships_created: 100\n",
       "relationships_deleted: 0"
      ]
     },
     "metadata": {},
     "output_type": "display_data"
    }
   ],
   "source": [
    "query = \"\"\"\n",
    "USING PERIODIC COMMIT 1000\n",
    "LOAD CSV WITH HEADERS FROM 'file:///\"\"\"+file_synthetic+\"\"\"' AS line FIELDTERMINATOR ','\n",
    "MERGE (e:Employee {id:toInteger(line.id), fullName:(line.full_name), email:(line.email)})\n",
    "MERGE (a:Assignmentscore {value:toInteger(line.how_was_your_last_month_in_your_assignment)})\n",
    "MERGE (e)-[:GAVE_ASSIGNMENT_SCORE]->(a)\n",
    "\"\"\"\n",
    "display(graph.run(query).stats())"
   ]
  },
  {
   "cell_type": "code",
   "execution_count": 16,
   "id": "satisfactory-prediction",
   "metadata": {},
   "outputs": [
    {
     "data": {
      "text/plain": [
       "<py2neo.database.Cursor at 0x7fea6c052af0>"
      ]
     },
     "execution_count": 16,
     "metadata": {},
     "output_type": "execute_result"
    }
   ],
   "source": [
    "graph.run(\"CREATE CONSTRAINT ON (d:Departmentscore) ASSERT d.value IS UNIQUE\")"
   ]
  },
  {
   "cell_type": "code",
   "execution_count": 17,
   "id": "quantitative-links",
   "metadata": {},
   "outputs": [
    {
     "data": {
      "text/plain": [
       "constraints_added: 0\n",
       "constraints_removed: 0\n",
       "contains_updates: True\n",
       "indexes_added: 0\n",
       "indexes_removed: 0\n",
       "labels_added: 4\n",
       "labels_removed: 0\n",
       "nodes_created: 4\n",
       "nodes_deleted: 0\n",
       "properties_set: 4\n",
       "relationships_created: 100\n",
       "relationships_deleted: 0"
      ]
     },
     "metadata": {},
     "output_type": "display_data"
    }
   ],
   "source": [
    "query = \"\"\"\n",
    "USING PERIODIC COMMIT 1000\n",
    "LOAD CSV WITH HEADERS FROM 'file:///\"\"\"+file_synthetic+\"\"\"' AS line FIELDTERMINATOR ','\n",
    "MATCH (e:Employee {id:toInteger(line.id)})\n",
    "MERGE (d:Departmentscore {value:toInteger(line.How_Was_Your_Last_Month_Within_Your_Department)})\n",
    "MERGE (e)-[:GAVE_DEPARTMENT_SCORE]->(d)\n",
    "\"\"\"\n",
    "display(graph.run(query).stats())"
   ]
  },
  {
   "cell_type": "code",
   "execution_count": 18,
   "id": "animated-frame",
   "metadata": {},
   "outputs": [
    {
     "data": {
      "text/plain": [
       "<py2neo.database.Cursor at 0x7fea6c045430>"
      ]
     },
     "execution_count": 18,
     "metadata": {},
     "output_type": "execute_result"
    }
   ],
   "source": [
    "graph.run(\"CREATE CONSTRAINT ON (c:Companyscore) ASSERT c.value IS UNIQUE\")"
   ]
  },
  {
   "cell_type": "code",
   "execution_count": 19,
   "id": "living-amino",
   "metadata": {},
   "outputs": [
    {
     "data": {
      "text/plain": [
       "constraints_added: 0\n",
       "constraints_removed: 0\n",
       "contains_updates: True\n",
       "indexes_added: 0\n",
       "indexes_removed: 0\n",
       "labels_added: 4\n",
       "labels_removed: 0\n",
       "nodes_created: 4\n",
       "nodes_deleted: 0\n",
       "properties_set: 4\n",
       "relationships_created: 100\n",
       "relationships_deleted: 0"
      ]
     },
     "metadata": {},
     "output_type": "display_data"
    }
   ],
   "source": [
    "query = \"\"\"\n",
    "USING PERIODIC COMMIT 1000\n",
    "LOAD CSV WITH HEADERS FROM 'file:///\"\"\"+file_synthetic+\"\"\"' AS line FIELDTERMINATOR ','\n",
    "MATCH (e:Employee {id:toInteger(line.id)})\n",
    "MERGE (c:Companyscore {value:toInteger(line.How_Was_Your_Last_Month_With_Us)})\n",
    "MERGE (e)-[:GAVE_COMPANY_SCORE]->(c)\n",
    "\"\"\"\n",
    "display(graph.run(query).stats())"
   ]
  },
  {
   "cell_type": "markdown",
   "id": "indoor-indian",
   "metadata": {},
   "source": [
    "#### feeling"
   ]
  },
  {
   "cell_type": "code",
   "execution_count": 20,
   "id": "fresh-gregory",
   "metadata": {},
   "outputs": [
    {
     "data": {
      "text/plain": [
       "<py2neo.database.Cursor at 0x7fea6c052b50>"
      ]
     },
     "execution_count": 20,
     "metadata": {},
     "output_type": "execute_result"
    }
   ],
   "source": [
    "graph.run(\"CREATE CONSTRAINT ON (f:Feeling) ASSERT f.description IS UNIQUE\")"
   ]
  },
  {
   "cell_type": "code",
   "execution_count": 21,
   "id": "orange-democracy",
   "metadata": {},
   "outputs": [
    {
     "data": {
      "text/plain": [
       "constraints_added: 0\n",
       "constraints_removed: 0\n",
       "contains_updates: True\n",
       "indexes_added: 0\n",
       "indexes_removed: 0\n",
       "labels_added: 38\n",
       "labels_removed: 0\n",
       "nodes_created: 38\n",
       "nodes_deleted: 0\n",
       "properties_set: 38\n",
       "relationships_created: 100\n",
       "relationships_deleted: 0"
      ]
     },
     "metadata": {},
     "output_type": "display_data"
    }
   ],
   "source": [
    "query = \"\"\"\n",
    "USING PERIODIC COMMIT 1000\n",
    "LOAD CSV WITH HEADERS FROM 'file:///\"\"\"+file_synthetic+\"\"\"' AS line FIELDTERMINATOR ','\n",
    "MATCH (e:Employee {id:toInteger(line.id)})\n",
    "MERGE (f:Feeling {description:(line.What_Felt_Best_During_This_Last_Month)})\n",
    "MERGE (e)-[:GAVE_BEST_FEELING]->(f)\n",
    "\"\"\"\n",
    "display(graph.run(query).stats())"
   ]
  },
  {
   "cell_type": "markdown",
   "id": "acoustic-split",
   "metadata": {},
   "source": [
    "#### Satisfaction"
   ]
  },
  {
   "cell_type": "code",
   "execution_count": 22,
   "id": "encouraging-victim",
   "metadata": {},
   "outputs": [
    {
     "data": {
      "text/plain": [
       "<py2neo.database.Cursor at 0x7fea6c069ca0>"
      ]
     },
     "execution_count": 22,
     "metadata": {},
     "output_type": "execute_result"
    }
   ],
   "source": [
    "graph.run(\"CREATE CONSTRAINT ON (s:Satisfaction) ASSERT s.description IS UNIQUE\")"
   ]
  },
  {
   "cell_type": "code",
   "execution_count": 23,
   "id": "tutorial-honolulu",
   "metadata": {},
   "outputs": [
    {
     "data": {
      "text/plain": [
       "constraints_added: 0\n",
       "constraints_removed: 0\n",
       "contains_updates: True\n",
       "indexes_added: 0\n",
       "indexes_removed: 0\n",
       "labels_added: 38\n",
       "labels_removed: 0\n",
       "nodes_created: 38\n",
       "nodes_deleted: 0\n",
       "properties_set: 38\n",
       "relationships_created: 100\n",
       "relationships_deleted: 0"
      ]
     },
     "metadata": {},
     "output_type": "display_data"
    }
   ],
   "source": [
    "query = \"\"\"\n",
    "USING PERIODIC COMMIT 1000\n",
    "LOAD CSV WITH HEADERS FROM 'file:///\"\"\"+file_synthetic+\"\"\"' AS line FIELDTERMINATOR ','\n",
    "MATCH (e:Employee {id:toInteger(line.id)})\n",
    "MERGE (s:Satisfaction {description:(line.What_Should_We_Do_To_Make_You_Feel_Better_And_Increase_Your_Overall_Satisfaction)})\n",
    "MERGE (e)-[:GAVE_SATISFACTION_IMPROVEMENTS]->(s)\n",
    "\"\"\"\n",
    "display(graph.run(query).stats())"
   ]
  },
  {
   "cell_type": "markdown",
   "id": "traditional-peter",
   "metadata": {},
   "source": [
    "#### Suggestion"
   ]
  },
  {
   "cell_type": "code",
   "execution_count": 24,
   "id": "annual-workstation",
   "metadata": {},
   "outputs": [
    {
     "data": {
      "text/plain": [
       "<py2neo.database.Cursor at 0x7fea6c069910>"
      ]
     },
     "execution_count": 24,
     "metadata": {},
     "output_type": "execute_result"
    }
   ],
   "source": [
    "graph.run(\"CREATE CONSTRAINT ON (s:Suggestion) ASSERT s.description IS UNIQUE\")"
   ]
  },
  {
   "cell_type": "code",
   "execution_count": 25,
   "id": "agricultural-david",
   "metadata": {},
   "outputs": [
    {
     "data": {
      "text/plain": [
       "constraints_added: 0\n",
       "constraints_removed: 0\n",
       "contains_updates: True\n",
       "indexes_added: 0\n",
       "indexes_removed: 0\n",
       "labels_added: 16\n",
       "labels_removed: 0\n",
       "nodes_created: 16\n",
       "nodes_deleted: 0\n",
       "properties_set: 16\n",
       "relationships_created: 100\n",
       "relationships_deleted: 0"
      ]
     },
     "metadata": {},
     "output_type": "display_data"
    }
   ],
   "source": [
    "query = \"\"\"\n",
    "USING PERIODIC COMMIT 1000\n",
    "LOAD CSV WITH HEADERS FROM 'file:///\"\"\"+file_synthetic+\"\"\"' AS line FIELDTERMINATOR ','\n",
    "MATCH (e:Employee {id:toInteger(line.id)})\n",
    "MERGE (s:Suggestion {description:(line.Any_Additional_Suggestion_To_Improve)})\n",
    "MERGE (e)-[:GAVE_IMPROVEMENT_SUGGESTIONS]->(s)\n",
    "\"\"\"\n",
    "display(graph.run(query).stats())"
   ]
  },
  {
   "cell_type": "markdown",
   "id": "awful-signature",
   "metadata": {},
   "source": [
    "#### cognitive data"
   ]
  },
  {
   "cell_type": "code",
   "execution_count": 26,
   "id": "confused-intention",
   "metadata": {},
   "outputs": [
    {
     "data": {
      "text/plain": [
       "<py2neo.database.Cursor at 0x7fea6c069fd0>"
      ]
     },
     "execution_count": 26,
     "metadata": {},
     "output_type": "execute_result"
    }
   ],
   "source": [
    "graph.run(\"CREATE CONSTRAINT ON (e:Event) ASSERT e.value IS UNIQUE\")\n",
    "graph.run(\"CREATE CONSTRAINT ON (l:Location) ASSERT l.value IS UNIQUE\")\n",
    "graph.run(\"CREATE CONSTRAINT ON (p:Product) ASSERT p.value IS UNIQUE\")\n",
    "graph.run(\"CREATE CONSTRAINT ON (s:Skill) ASSERT s.value IS UNIQUE\")\n",
    "graph.run(\"CREATE CONSTRAINT ON (q:Quantity) ASSERT q.value IS UNIQUE\")\n",
    "graph.run(\"CREATE CONSTRAINT ON (p:PersonType) ASSERT p.value IS UNIQUE\")"
   ]
  },
  {
   "cell_type": "code",
   "execution_count": 27,
   "id": "unusual-dependence",
   "metadata": {},
   "outputs": [
    {
     "data": {
      "text/html": [
       "<div>\n",
       "<style scoped>\n",
       "    .dataframe tbody tr th:only-of-type {\n",
       "        vertical-align: middle;\n",
       "    }\n",
       "\n",
       "    .dataframe tbody tr th {\n",
       "        vertical-align: top;\n",
       "    }\n",
       "\n",
       "    .dataframe thead th {\n",
       "        text-align: right;\n",
       "    }\n",
       "</style>\n",
       "<table border=\"1\" class=\"dataframe\">\n",
       "  <thead>\n",
       "    <tr style=\"text-align: right;\">\n",
       "      <th></th>\n",
       "      <th>document</th>\n",
       "      <th>entities</th>\n",
       "      <th>entity_text</th>\n",
       "      <th>entity_category</th>\n",
       "      <th>entity_subcategory</th>\n",
       "      <th>entity_confidence_score</th>\n",
       "    </tr>\n",
       "  </thead>\n",
       "  <tbody>\n",
       "    <tr>\n",
       "      <th>0</th>\n",
       "      <td>Don’t be friends during work hours.</td>\n",
       "      <td>{'text': 'friends', 'category': 'PersonType', ...</td>\n",
       "      <td>friends</td>\n",
       "      <td>PersonType</td>\n",
       "      <td>None</td>\n",
       "      <td>0.87</td>\n",
       "    </tr>\n",
       "    <tr>\n",
       "      <th>1</th>\n",
       "      <td>If a few managers took a chill pill.</td>\n",
       "      <td>{'text': 'managers', 'category': 'PersonType',...</td>\n",
       "      <td>managers</td>\n",
       "      <td>PersonType</td>\n",
       "      <td>None</td>\n",
       "      <td>0.97</td>\n",
       "    </tr>\n",
       "    <tr>\n",
       "      <th>2</th>\n",
       "      <td>If a few managers took a chill pill.</td>\n",
       "      <td>{'text': 'chill pill', 'category': 'Product', ...</td>\n",
       "      <td>chill pill</td>\n",
       "      <td>Product</td>\n",
       "      <td>None</td>\n",
       "      <td>0.63</td>\n",
       "    </tr>\n",
       "    <tr>\n",
       "      <th>3</th>\n",
       "      <td>I would like to talk to the managers just to s...</td>\n",
       "      <td>{'text': 'managers', 'category': 'PersonType',...</td>\n",
       "      <td>managers</td>\n",
       "      <td>PersonType</td>\n",
       "      <td>None</td>\n",
       "      <td>0.97</td>\n",
       "    </tr>\n",
       "    <tr>\n",
       "      <th>4</th>\n",
       "      <td>Fire half the staff and replace them with trai...</td>\n",
       "      <td>{'text': 'half', 'category': 'Quantity', 'subc...</td>\n",
       "      <td>half</td>\n",
       "      <td>Quantity</td>\n",
       "      <td>Number</td>\n",
       "      <td>0.80</td>\n",
       "    </tr>\n",
       "    <tr>\n",
       "      <th>5</th>\n",
       "      <td>We used to be a family, now no one trusts anyo...</td>\n",
       "      <td>{'text': 'now', 'category': 'DateTime', 'subca...</td>\n",
       "      <td>now</td>\n",
       "      <td>DateTime</td>\n",
       "      <td>None</td>\n",
       "      <td>0.80</td>\n",
       "    </tr>\n",
       "    <tr>\n",
       "      <th>6</th>\n",
       "      <td>We used to be a family, now no one trusts anyo...</td>\n",
       "      <td>{'text': 'one', 'category': 'Quantity', 'subca...</td>\n",
       "      <td>one</td>\n",
       "      <td>Quantity</td>\n",
       "      <td>Number</td>\n",
       "      <td>0.80</td>\n",
       "    </tr>\n",
       "    <tr>\n",
       "      <th>7</th>\n",
       "      <td>We used to be a family, now no one trusts anyo...</td>\n",
       "      <td>{'text': 'one', 'category': 'Quantity', 'subca...</td>\n",
       "      <td>one</td>\n",
       "      <td>Quantity</td>\n",
       "      <td>Number</td>\n",
       "      <td>0.80</td>\n",
       "    </tr>\n",
       "    <tr>\n",
       "      <th>8</th>\n",
       "      <td>I asked for a one to one with my manager , I'm...</td>\n",
       "      <td>{'text': 'one', 'category': 'Quantity', 'subca...</td>\n",
       "      <td>one</td>\n",
       "      <td>Quantity</td>\n",
       "      <td>Number</td>\n",
       "      <td>0.80</td>\n",
       "    </tr>\n",
       "    <tr>\n",
       "      <th>9</th>\n",
       "      <td>I asked for a one to one with my manager , I'm...</td>\n",
       "      <td>{'text': 'one', 'category': 'Quantity', 'subca...</td>\n",
       "      <td>one</td>\n",
       "      <td>Quantity</td>\n",
       "      <td>Number</td>\n",
       "      <td>0.80</td>\n",
       "    </tr>\n",
       "    <tr>\n",
       "      <th>10</th>\n",
       "      <td>be more responsive to employees demands</td>\n",
       "      <td>{'text': 'responsive', 'category': 'Skill', 's...</td>\n",
       "      <td>responsive</td>\n",
       "      <td>Skill</td>\n",
       "      <td>None</td>\n",
       "      <td>0.80</td>\n",
       "    </tr>\n",
       "  </tbody>\n",
       "</table>\n",
       "</div>"
      ],
      "text/plain": [
       "                                             document  \\\n",
       "0                 Don’t be friends during work hours.   \n",
       "1                If a few managers took a chill pill.   \n",
       "2                If a few managers took a chill pill.   \n",
       "3   I would like to talk to the managers just to s...   \n",
       "4   Fire half the staff and replace them with trai...   \n",
       "5   We used to be a family, now no one trusts anyo...   \n",
       "6   We used to be a family, now no one trusts anyo...   \n",
       "7   We used to be a family, now no one trusts anyo...   \n",
       "8   I asked for a one to one with my manager , I'm...   \n",
       "9   I asked for a one to one with my manager , I'm...   \n",
       "10            be more responsive to employees demands   \n",
       "\n",
       "                                             entities entity_text  \\\n",
       "0   {'text': 'friends', 'category': 'PersonType', ...     friends   \n",
       "1   {'text': 'managers', 'category': 'PersonType',...    managers   \n",
       "2   {'text': 'chill pill', 'category': 'Product', ...  chill pill   \n",
       "3   {'text': 'managers', 'category': 'PersonType',...    managers   \n",
       "4   {'text': 'half', 'category': 'Quantity', 'subc...        half   \n",
       "5   {'text': 'now', 'category': 'DateTime', 'subca...         now   \n",
       "6   {'text': 'one', 'category': 'Quantity', 'subca...         one   \n",
       "7   {'text': 'one', 'category': 'Quantity', 'subca...         one   \n",
       "8   {'text': 'one', 'category': 'Quantity', 'subca...         one   \n",
       "9   {'text': 'one', 'category': 'Quantity', 'subca...         one   \n",
       "10  {'text': 'responsive', 'category': 'Skill', 's...  responsive   \n",
       "\n",
       "   entity_category entity_subcategory  entity_confidence_score  \n",
       "0       PersonType               None                     0.87  \n",
       "1       PersonType               None                     0.97  \n",
       "2          Product               None                     0.63  \n",
       "3       PersonType               None                     0.97  \n",
       "4         Quantity             Number                     0.80  \n",
       "5         DateTime               None                     0.80  \n",
       "6         Quantity             Number                     0.80  \n",
       "7         Quantity             Number                     0.80  \n",
       "8         Quantity             Number                     0.80  \n",
       "9         Quantity             Number                     0.80  \n",
       "10           Skill               None                     0.80  "
      ]
     },
     "execution_count": 27,
     "metadata": {},
     "output_type": "execute_result"
    }
   ],
   "source": [
    "entities_df"
   ]
  },
  {
   "cell_type": "code",
   "execution_count": 28,
   "id": "covered-colombia",
   "metadata": {},
   "outputs": [
    {
     "data": {
      "text/plain": [
       "document                   0.0\n",
       "entities                   0.0\n",
       "entity_text                0.0\n",
       "entity_category            0.0\n",
       "entity_subcategory         0.0\n",
       "entity_confidence_score    0.0\n",
       "dtype: float64"
      ]
     },
     "execution_count": 28,
     "metadata": {},
     "output_type": "execute_result"
    }
   ],
   "source": [
    "# count missing values, sorted (high missing > 5%)\n",
    "entities_df.isnull().apply(lambda x: x.sum() * 100 / len(entities_df)).round(1).sort_values(ascending=True)"
   ]
  },
  {
   "cell_type": "markdown",
   "id": "rotary-queens",
   "metadata": {},
   "source": [
    "#### replace Suggestion Node to either Feeling, Satisfaction or Suggestion into the other 2 notebooks!!\n",
    "here it hould be Suggestion node"
   ]
  },
  {
   "cell_type": "code",
   "execution_count": 29,
   "id": "falling-algebra",
   "metadata": {},
   "outputs": [
    {
     "data": {
      "text/plain": [
       "constraints_added: 0\n",
       "constraints_removed: 0\n",
       "contains_updates: False\n",
       "indexes_added: 0\n",
       "indexes_removed: 0\n",
       "labels_added: 0\n",
       "labels_removed: 0\n",
       "nodes_created: 0\n",
       "nodes_deleted: 0\n",
       "properties_set: 0\n",
       "relationships_created: 0\n",
       "relationships_deleted: 0"
      ]
     },
     "metadata": {},
     "output_type": "display_data"
    },
    {
     "data": {
      "text/plain": [
       "constraints_added: 0\n",
       "constraints_removed: 0\n",
       "contains_updates: False\n",
       "indexes_added: 0\n",
       "indexes_removed: 0\n",
       "labels_added: 0\n",
       "labels_removed: 0\n",
       "nodes_created: 0\n",
       "nodes_deleted: 0\n",
       "properties_set: 0\n",
       "relationships_created: 0\n",
       "relationships_deleted: 0"
      ]
     },
     "metadata": {},
     "output_type": "display_data"
    },
    {
     "data": {
      "text/plain": [
       "constraints_added: 0\n",
       "constraints_removed: 0\n",
       "contains_updates: True\n",
       "indexes_added: 0\n",
       "indexes_removed: 0\n",
       "labels_added: 1\n",
       "labels_removed: 0\n",
       "nodes_created: 1\n",
       "nodes_deleted: 0\n",
       "properties_set: 1\n",
       "relationships_created: 1\n",
       "relationships_deleted: 0"
      ]
     },
     "metadata": {},
     "output_type": "display_data"
    },
    {
     "data": {
      "text/plain": [
       "constraints_added: 0\n",
       "constraints_removed: 0\n",
       "contains_updates: True\n",
       "indexes_added: 0\n",
       "indexes_removed: 0\n",
       "labels_added: 1\n",
       "labels_removed: 0\n",
       "nodes_created: 1\n",
       "nodes_deleted: 0\n",
       "properties_set: 1\n",
       "relationships_created: 1\n",
       "relationships_deleted: 0"
      ]
     },
     "metadata": {},
     "output_type": "display_data"
    },
    {
     "data": {
      "text/plain": [
       "constraints_added: 0\n",
       "constraints_removed: 0\n",
       "contains_updates: True\n",
       "indexes_added: 0\n",
       "indexes_removed: 0\n",
       "labels_added: 2\n",
       "labels_removed: 0\n",
       "nodes_created: 2\n",
       "nodes_deleted: 0\n",
       "properties_set: 2\n",
       "relationships_created: 3\n",
       "relationships_deleted: 0"
      ]
     },
     "metadata": {},
     "output_type": "display_data"
    },
    {
     "data": {
      "text/plain": [
       "constraints_added: 0\n",
       "constraints_removed: 0\n",
       "contains_updates: True\n",
       "indexes_added: 0\n",
       "indexes_removed: 0\n",
       "labels_added: 2\n",
       "labels_removed: 0\n",
       "nodes_created: 2\n",
       "nodes_deleted: 0\n",
       "properties_set: 2\n",
       "relationships_created: 3\n",
       "relationships_deleted: 0"
      ]
     },
     "metadata": {},
     "output_type": "display_data"
    }
   ],
   "source": [
    "query = \"\"\"\n",
    "USING PERIODIC COMMIT 1000\n",
    "LOAD CSV WITH HEADERS FROM 'file:///\"\"\"+file_entities1+\"\"\"' AS line FIELDTERMINATOR ','\n",
    "WITH line WHERE line.entity_category = 'Event'\n",
    "MATCH (suggestion:Suggestion {description:(line.document)})\n",
    "MERGE (event:Event {value:(line.entity_text)})\n",
    "MERGE (event)-[:EVENT_IN]->(suggestion)\n",
    "\"\"\"\n",
    "display(graph.run(query).stats())\n",
    "query = \"\"\"\n",
    "USING PERIODIC COMMIT 1000\n",
    "LOAD CSV WITH HEADERS FROM 'file:///\"\"\"+file_entities1+\"\"\"' AS line FIELDTERMINATOR ','\n",
    "WITH line WHERE line.entity_category = 'Location'\n",
    "MATCH (suggestion:Suggestion {description:(line.document)})\n",
    "MERGE (location:Location {value:(line.entity_text)})\n",
    "MERGE (location)-[:LOCATION_IN]->(suggestion)\n",
    "\"\"\"\n",
    "display(graph.run(query).stats())\n",
    "query = \"\"\"\n",
    "USING PERIODIC COMMIT 1000\n",
    "LOAD CSV WITH HEADERS FROM 'file:///\"\"\"+file_entities1+\"\"\"' AS line FIELDTERMINATOR ','\n",
    "WITH line WHERE line.entity_category = 'Product'\n",
    "MATCH (suggestion:Suggestion {description:(line.document)})\n",
    "MERGE (product:Product {value:(line.entity_text)})\n",
    "MERGE (product)-[:PRODUCT_IN]->(suggestion)\n",
    "\"\"\"\n",
    "display(graph.run(query).stats())\n",
    "query = \"\"\"\n",
    "USING PERIODIC COMMIT 1000\n",
    "LOAD CSV WITH HEADERS FROM 'file:///\"\"\"+file_entities1+\"\"\"' AS line FIELDTERMINATOR ','\n",
    "WITH line WHERE line.entity_category = 'Skill'\n",
    "MATCH (suggestion:Suggestion {description:(line.document)})\n",
    "MERGE (skill:Skill {value:(line.entity_text)})\n",
    "MERGE (skill)-[:SKILL_IN]->(suggestion)\n",
    "\"\"\"\n",
    "display(graph.run(query).stats())\n",
    "query = \"\"\"\n",
    "USING PERIODIC COMMIT 1000\n",
    "LOAD CSV WITH HEADERS FROM 'file:///\"\"\"+file_entities1+\"\"\"' AS line FIELDTERMINATOR ','\n",
    "WITH line WHERE line.entity_category = 'Quantity'\n",
    "MATCH (suggestion:Suggestion {description:(line.document)})\n",
    "MERGE (quantity:Quantity {value:(line.entity_text)})\n",
    "MERGE (quantity)-[:QUANTITY_IN]->(suggestion)\n",
    "\"\"\"\n",
    "display(graph.run(query).stats())\n",
    "query = \"\"\"\n",
    "USING PERIODIC COMMIT 1000\n",
    "LOAD CSV WITH HEADERS FROM 'file:///\"\"\"+file_entities1+\"\"\"' AS line FIELDTERMINATOR ','\n",
    "WITH line WHERE line.entity_category = 'PersonType'\n",
    "MATCH (suggestion:Suggestion {description:(line.document)})\n",
    "MERGE (persontype:PersonType {value:(line.entity_text)})\n",
    "MERGE (persontype)-[:PERSONTYPE_IN]->(suggestion)\n",
    "\"\"\"\n",
    "display(graph.run(query).stats())"
   ]
  },
  {
   "cell_type": "markdown",
   "id": "secret-summary",
   "metadata": {},
   "source": [
    "#### sentiment"
   ]
  },
  {
   "cell_type": "code",
   "execution_count": 31,
   "id": "catholic-interview",
   "metadata": {},
   "outputs": [
    {
     "data": {
      "text/plain": [
       "<py2neo.database.Cursor at 0x7fea73427670>"
      ]
     },
     "execution_count": 31,
     "metadata": {},
     "output_type": "execute_result"
    }
   ],
   "source": [
    "graph.run(\"CREATE CONSTRAINT ON (s:Sentiment) ASSERT s.value IS UNIQUE\")"
   ]
  },
  {
   "cell_type": "code",
   "execution_count": 32,
   "id": "worse-australian",
   "metadata": {},
   "outputs": [
    {
     "data": {
      "text/html": [
       "<div>\n",
       "<style scoped>\n",
       "    .dataframe tbody tr th:only-of-type {\n",
       "        vertical-align: middle;\n",
       "    }\n",
       "\n",
       "    .dataframe tbody tr th {\n",
       "        vertical-align: top;\n",
       "    }\n",
       "\n",
       "    .dataframe thead th {\n",
       "        text-align: right;\n",
       "    }\n",
       "</style>\n",
       "<table border=\"1\" class=\"dataframe\">\n",
       "  <thead>\n",
       "    <tr style=\"text-align: right;\">\n",
       "      <th></th>\n",
       "      <th>document</th>\n",
       "      <th>sentiment</th>\n",
       "    </tr>\n",
       "  </thead>\n",
       "  <tbody>\n",
       "    <tr>\n",
       "      <th>0</th>\n",
       "      <td>more sync between the different departments</td>\n",
       "      <td>neutral</td>\n",
       "    </tr>\n",
       "    <tr>\n",
       "      <th>1</th>\n",
       "      <td>keep up the good energy</td>\n",
       "      <td>positive</td>\n",
       "    </tr>\n",
       "    <tr>\n",
       "      <th>2</th>\n",
       "      <td>Don’t be friends during work hours.</td>\n",
       "      <td>negative</td>\n",
       "    </tr>\n",
       "    <tr>\n",
       "      <th>3</th>\n",
       "      <td>If a few managers took a chill pill.</td>\n",
       "      <td>neutral</td>\n",
       "    </tr>\n",
       "    <tr>\n",
       "      <th>4</th>\n",
       "      <td>I would like to talk to the managers just to s...</td>\n",
       "      <td>positive</td>\n",
       "    </tr>\n",
       "    <tr>\n",
       "      <th>...</th>\n",
       "      <td>...</td>\n",
       "      <td>...</td>\n",
       "    </tr>\n",
       "    <tr>\n",
       "      <th>95</th>\n",
       "      <td>none</td>\n",
       "      <td>neutral</td>\n",
       "    </tr>\n",
       "    <tr>\n",
       "      <th>96</th>\n",
       "      <td>none</td>\n",
       "      <td>neutral</td>\n",
       "    </tr>\n",
       "    <tr>\n",
       "      <th>97</th>\n",
       "      <td>none</td>\n",
       "      <td>neutral</td>\n",
       "    </tr>\n",
       "    <tr>\n",
       "      <th>98</th>\n",
       "      <td>none</td>\n",
       "      <td>neutral</td>\n",
       "    </tr>\n",
       "    <tr>\n",
       "      <th>99</th>\n",
       "      <td>none</td>\n",
       "      <td>neutral</td>\n",
       "    </tr>\n",
       "  </tbody>\n",
       "</table>\n",
       "<p>100 rows × 2 columns</p>\n",
       "</div>"
      ],
      "text/plain": [
       "                                             document sentiment\n",
       "0         more sync between the different departments   neutral\n",
       "1                             keep up the good energy  positive\n",
       "2                 Don’t be friends during work hours.  negative\n",
       "3                If a few managers took a chill pill.   neutral\n",
       "4   I would like to talk to the managers just to s...  positive\n",
       "..                                                ...       ...\n",
       "95                                               none   neutral\n",
       "96                                               none   neutral\n",
       "97                                               none   neutral\n",
       "98                                               none   neutral\n",
       "99                                               none   neutral\n",
       "\n",
       "[100 rows x 2 columns]"
      ]
     },
     "execution_count": 32,
     "metadata": {},
     "output_type": "execute_result"
    }
   ],
   "source": [
    "sentiment_df"
   ]
  },
  {
   "cell_type": "code",
   "execution_count": 33,
   "id": "hollow-ethnic",
   "metadata": {},
   "outputs": [
    {
     "data": {
      "text/plain": [
       "constraints_added: 0\n",
       "constraints_removed: 0\n",
       "contains_updates: True\n",
       "indexes_added: 0\n",
       "indexes_removed: 0\n",
       "labels_added: 3\n",
       "labels_removed: 0\n",
       "nodes_created: 3\n",
       "nodes_deleted: 0\n",
       "properties_set: 3\n",
       "relationships_created: 15\n",
       "relationships_deleted: 0"
      ]
     },
     "metadata": {},
     "output_type": "display_data"
    }
   ],
   "source": [
    "query = \"\"\"\n",
    "USING PERIODIC COMMIT 1000\n",
    "LOAD CSV WITH HEADERS FROM 'file:///\"\"\"+file_sentiment1+\"\"\"' AS line FIELDTERMINATOR ','\n",
    "MATCH (suggestion:Suggestion {description:(line.document)})\n",
    "MERGE (sentiment:Sentiment {value:(line.sentiment)})\n",
    "MERGE (sentiment)-[:SENTIMENT_IN]->(suggestion)\n",
    "\"\"\"\n",
    "display(graph.run(query).stats())"
   ]
  },
  {
   "cell_type": "markdown",
   "id": "technical-pendant",
   "metadata": {},
   "source": [
    "## Querying"
   ]
  },
  {
   "cell_type": "markdown",
   "id": "military-nirvana",
   "metadata": {},
   "source": []
  },
  {
   "cell_type": "code",
   "execution_count": null,
   "id": "protected-egyptian",
   "metadata": {},
   "outputs": [],
   "source": [
    "%%time\n",
    "query = \"\"\"\n",
    "MATCH (s:Sentiment)-[:SENTIMENT_IN]->()<-[rel]-(e:Employee)\n",
    "WITH e, rel, COLLECT(s.value) AS sentiment\n",
    "RETURN e.email, count(sentiment) AS sentiment_amount\n",
    "ORDER BY sentiment_amount DESC\n",
    "\"\"\"\n",
    "graph.run(query).to_data_frame()"
   ]
  },
  {
   "cell_type": "code",
   "execution_count": null,
   "id": "still-reliance",
   "metadata": {},
   "outputs": [],
   "source": []
  },
  {
   "cell_type": "code",
   "execution_count": 39,
   "id": "organic-recovery",
   "metadata": {},
   "outputs": [
    {
     "data": {
      "text/plain": [
       "0    89\n",
       "Name: total, dtype: int64"
      ]
     },
     "execution_count": 39,
     "metadata": {},
     "output_type": "execute_result"
    }
   ],
   "source": [
    "query = \"\"\"\n",
    "MATCH (s:Sentiment)-[rel]-()\n",
    "RETURN count(s) AS total\n",
    "\"\"\"\n",
    "graph.run(query).to_data_frame()['total']"
   ]
  },
  {
   "cell_type": "code",
   "execution_count": null,
   "id": "certain-magazine",
   "metadata": {},
   "outputs": [],
   "source": [
    "MATCH (s:Sentiment)-[rel]-()\n",
    "RETURN count(s)"
   ]
  },
  {
   "cell_type": "code",
   "execution_count": null,
   "id": "existing-latitude",
   "metadata": {},
   "outputs": [],
   "source": []
  },
  {
   "cell_type": "markdown",
   "id": "varying-relaxation",
   "metadata": {},
   "source": [
    "## reset DB"
   ]
  },
  {
   "cell_type": "code",
   "execution_count": null,
   "id": "loaded-harris",
   "metadata": {},
   "outputs": [],
   "source": [
    "# delete database and restart (wait ~2min)\n",
    "import os\n",
    "os.system(\" cd ../.. && \\\n",
    "            sudo docker-compose down && \\\n",
    "            sudo rm -Rf neo4j/data/databases/neo4j && \\\n",
    "            sudo rm -Rf neo4j/data/transactions/neo4j && \\\n",
    "            sudo docker-compose up --build &\")"
   ]
  }
 ],
 "metadata": {
  "kernelspec": {
   "display_name": "py38_neo4j",
   "language": "python",
   "name": "conda-env-py38_neo4j-py"
  },
  "language_info": {
   "codemirror_mode": {
    "name": "ipython",
    "version": 3
   },
   "file_extension": ".py",
   "mimetype": "text/x-python",
   "name": "python",
   "nbconvert_exporter": "python",
   "pygments_lexer": "ipython3",
   "version": "3.8.6"
  }
 },
 "nbformat": 4,
 "nbformat_minor": 5
}
