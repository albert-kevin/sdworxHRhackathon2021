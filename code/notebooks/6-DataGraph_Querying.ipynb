{
 "cells": [
  {
   "cell_type": "code",
   "execution_count": 4,
   "id": "coordinate-advantage",
   "metadata": {},
   "outputs": [],
   "source": [
    "from py2neo import Graph, Node, Relationship\n",
    "import pandas as pd\n",
    "from IPython.display import Javascript\n",
    "from fuzzywuzzy import process, fuzz"
   ]
  },
  {
   "cell_type": "code",
   "execution_count": 5,
   "id": "younger-athletics",
   "metadata": {},
   "outputs": [],
   "source": [
    "import platform\n",
    "import psutil\n",
    "import os"
   ]
  },
  {
   "cell_type": "code",
   "execution_count": 6,
   "id": "blind-stocks",
   "metadata": {},
   "outputs": [],
   "source": [
    "server  = \"168.63.44.210\"\n",
    "port    = \"7687\"\n",
    "user    = \"neo4j\"\n",
    "passw   = \"digityser\"\n",
    "db_name = \"neo4j\"        # default name (v4.x)"
   ]
  },
  {
   "cell_type": "code",
   "execution_count": 7,
   "id": "numerical-barcelona",
   "metadata": {},
   "outputs": [],
   "source": [
    "# load graph connection instance\n",
    "graph = Graph(host=server, auth=(user, passw), name=db_name, encrypted=False)"
   ]
  },
  {
   "cell_type": "markdown",
   "id": "seven-meaning",
   "metadata": {},
   "source": [
    "#### detected nodes that have no value"
   ]
  },
  {
   "cell_type": "code",
   "execution_count": 29,
   "id": "reliable-player",
   "metadata": {},
   "outputs": [
    {
     "data": {
      "text/html": [
       "<div>\n",
       "<style scoped>\n",
       "    .dataframe tbody tr th:only-of-type {\n",
       "        vertical-align: middle;\n",
       "    }\n",
       "\n",
       "    .dataframe tbody tr th {\n",
       "        vertical-align: top;\n",
       "    }\n",
       "\n",
       "    .dataframe thead th {\n",
       "        text-align: right;\n",
       "    }\n",
       "</style>\n",
       "<table border=\"1\" class=\"dataframe\">\n",
       "  <thead>\n",
       "    <tr style=\"text-align: right;\">\n",
       "      <th></th>\n",
       "      <th>data</th>\n",
       "    </tr>\n",
       "  </thead>\n",
       "  <tbody>\n",
       "    <tr>\n",
       "      <th>0</th>\n",
       "      <td>No Feeling</td>\n",
       "    </tr>\n",
       "    <tr>\n",
       "      <th>1</th>\n",
       "      <td>No Satisfaction</td>\n",
       "    </tr>\n",
       "    <tr>\n",
       "      <th>2</th>\n",
       "      <td>No Improvement</td>\n",
       "    </tr>\n",
       "  </tbody>\n",
       "</table>\n",
       "</div>"
      ],
      "text/plain": [
       "              data\n",
       "0       No Feeling\n",
       "1  No Satisfaction\n",
       "2   No Improvement"
      ]
     },
     "execution_count": 29,
     "metadata": {},
     "output_type": "execute_result"
    }
   ],
   "source": [
    "query = \"\"\"\n",
    "MATCH (s)\n",
    "WHERE s.description STARTS WITH 'No '\n",
    "RETURN s.description AS data\n",
    "\"\"\"\n",
    "graph.run(query).to_data_frame()"
   ]
  },
  {
   "cell_type": "code",
   "execution_count": 30,
   "id": "mature-government",
   "metadata": {},
   "outputs": [
    {
     "data": {
      "text/plain": [
       "constraints_added: 0\n",
       "constraints_removed: 0\n",
       "contains_updates: True\n",
       "indexes_added: 0\n",
       "indexes_removed: 0\n",
       "labels_added: 0\n",
       "labels_removed: 0\n",
       "nodes_created: 0\n",
       "nodes_deleted: 3\n",
       "properties_set: 0\n",
       "relationships_created: 0\n",
       "relationships_deleted: 211"
      ]
     },
     "metadata": {},
     "output_type": "display_data"
    }
   ],
   "source": [
    "query = \"\"\"\n",
    "MATCH (s)\n",
    "WHERE s.description STARTS WITH 'No '\n",
    "DETACH DELETE s\n",
    "\"\"\"\n",
    "display(graph.run(query).stats())"
   ]
  },
  {
   "cell_type": "markdown",
   "id": "perceived-multiple",
   "metadata": {},
   "source": [
    "## what percentages has a positive, negative and neutral sentiment ?"
   ]
  },
  {
   "cell_type": "code",
   "execution_count": 31,
   "id": "engaged-final",
   "metadata": {},
   "outputs": [
    {
     "name": "stdout",
     "output_type": "stream",
     "text": [
      "CPU times: user 2.05 ms, sys: 573 µs, total: 2.62 ms\n",
      "Wall time: 76.3 ms\n"
     ]
    },
    {
     "data": {
      "text/html": [
       "<div>\n",
       "<style scoped>\n",
       "    .dataframe tbody tr th:only-of-type {\n",
       "        vertical-align: middle;\n",
       "    }\n",
       "\n",
       "    .dataframe tbody tr th {\n",
       "        vertical-align: top;\n",
       "    }\n",
       "\n",
       "    .dataframe thead th {\n",
       "        text-align: right;\n",
       "    }\n",
       "</style>\n",
       "<table border=\"1\" class=\"dataframe\">\n",
       "  <thead>\n",
       "    <tr style=\"text-align: right;\">\n",
       "      <th></th>\n",
       "      <th>pos</th>\n",
       "      <th>neg</th>\n",
       "      <th>neu</th>\n",
       "    </tr>\n",
       "  </thead>\n",
       "  <tbody>\n",
       "    <tr>\n",
       "      <th>0</th>\n",
       "      <td>49.438202</td>\n",
       "      <td>13.483146</td>\n",
       "      <td>37.078652</td>\n",
       "    </tr>\n",
       "  </tbody>\n",
       "</table>\n",
       "</div>"
      ],
      "text/plain": [
       "         pos        neg        neu\n",
       "0  49.438202  13.483146  37.078652"
      ]
     },
     "execution_count": 31,
     "metadata": {},
     "output_type": "execute_result"
    }
   ],
   "source": [
    "%%time\n",
    "query = \"\"\"\n",
    "MATCH (s:Sentiment {value:'positive'})-[:SENTIMENT_IN]->()<-[rel]-(e:Employee)\n",
    "WITH count(s) AS totalPositive\n",
    "MATCH (s:Sentiment {value:'negative'})-[:SENTIMENT_IN]->()<-[rel]-(e:Employee)\n",
    "WITH totalPositive, count(s) AS totalNegative\n",
    "MATCH (s:Sentiment {value:'neutral'})-[:SENTIMENT_IN]->()<-[rel]-(e:Employee)\n",
    "WITH totalPositive, totalNegative, count(s) AS totalNeutral\n",
    "MATCH (s:Sentiment)-[:SENTIMENT_IN]->()<-[rel]-(e:Employee)\n",
    "WITH totalPositive, totalNegative, totalNeutral, count(s) AS total\n",
    "RETURN toFloat((totalPositive)/toFloat(total))*100 AS pos,\n",
    "toFloat((totalNegative)/toFloat(total))*100 AS neg,\n",
    "toFloat((totalNeutral)/toFloat(total))*100 AS neu\n",
    "\"\"\"\n",
    "graph.run(query).to_data_frame()"
   ]
  },
  {
   "cell_type": "markdown",
   "id": "handed-expense",
   "metadata": {},
   "source": [
    "#### List all the entities related to positive, negative and neutral sentiment"
   ]
  },
  {
   "cell_type": "code",
   "execution_count": 32,
   "id": "fatal-fleece",
   "metadata": {},
   "outputs": [
    {
     "data": {
      "text/html": [
       "<div>\n",
       "<style scoped>\n",
       "    .dataframe tbody tr th:only-of-type {\n",
       "        vertical-align: middle;\n",
       "    }\n",
       "\n",
       "    .dataframe tbody tr th {\n",
       "        vertical-align: top;\n",
       "    }\n",
       "\n",
       "    .dataframe thead th {\n",
       "        text-align: right;\n",
       "    }\n",
       "</style>\n",
       "<table border=\"1\" class=\"dataframe\">\n",
       "  <thead>\n",
       "    <tr style=\"text-align: right;\">\n",
       "      <th></th>\n",
       "      <th>positive_entities</th>\n",
       "    </tr>\n",
       "  </thead>\n",
       "  <tbody>\n",
       "    <tr>\n",
       "      <th>0</th>\n",
       "      <td>collecting</td>\n",
       "    </tr>\n",
       "    <tr>\n",
       "      <th>1</th>\n",
       "      <td>energy</td>\n",
       "    </tr>\n",
       "    <tr>\n",
       "      <th>2</th>\n",
       "      <td>openness</td>\n",
       "    </tr>\n",
       "    <tr>\n",
       "      <th>3</th>\n",
       "      <td>impact</td>\n",
       "    </tr>\n",
       "    <tr>\n",
       "      <th>4</th>\n",
       "      <td>certification</td>\n",
       "    </tr>\n",
       "    <tr>\n",
       "      <th>5</th>\n",
       "      <td>scrum</td>\n",
       "    </tr>\n",
       "    <tr>\n",
       "      <th>6</th>\n",
       "      <td>CSR</td>\n",
       "    </tr>\n",
       "    <tr>\n",
       "      <th>7</th>\n",
       "      <td>collaboration</td>\n",
       "    </tr>\n",
       "    <tr>\n",
       "      <th>8</th>\n",
       "      <td>communication</td>\n",
       "    </tr>\n",
       "  </tbody>\n",
       "</table>\n",
       "</div>"
      ],
      "text/plain": [
       "  positive_entities\n",
       "0        collecting\n",
       "1            energy\n",
       "2          openness\n",
       "3            impact\n",
       "4     certification\n",
       "5             scrum\n",
       "6               CSR\n",
       "7     collaboration\n",
       "8     communication"
      ]
     },
     "execution_count": 32,
     "metadata": {},
     "output_type": "execute_result"
    }
   ],
   "source": [
    "# neutral entities:\n",
    "query = \"\"\"\n",
    "MATCH (s:Sentiment {value:'positive'})-[:SENTIMENT_IN]->(feeling:Feeling)\n",
    "WITH feeling\n",
    "MATCH (s:Sentiment {value:'positive'})-[:SENTIMENT_IN]->(satisfaction:Satisfaction)\n",
    "WITH feeling, satisfaction\n",
    "MATCH (s:Sentiment {value:'positive'})-[:SENTIMENT_IN]->(suggestion:Suggestion)\n",
    "WITH feeling, satisfaction, suggestion\n",
    "MATCH (satisfaction)<-[r:SKILL_IN]-(d)\n",
    "RETURN DISTINCT d.value AS positive_entities\n",
    "\"\"\"\n",
    "graph.run(query).to_data_frame()"
   ]
  },
  {
   "cell_type": "code",
   "execution_count": 22,
   "id": "relative-titanium",
   "metadata": {},
   "outputs": [
    {
     "data": {
      "text/html": [
       "<div>\n",
       "<style scoped>\n",
       "    .dataframe tbody tr th:only-of-type {\n",
       "        vertical-align: middle;\n",
       "    }\n",
       "\n",
       "    .dataframe tbody tr th {\n",
       "        vertical-align: top;\n",
       "    }\n",
       "\n",
       "    .dataframe thead th {\n",
       "        text-align: right;\n",
       "    }\n",
       "</style>\n",
       "<table border=\"1\" class=\"dataframe\">\n",
       "  <thead>\n",
       "    <tr style=\"text-align: right;\">\n",
       "      <th></th>\n",
       "      <th>negative_entities</th>\n",
       "    </tr>\n",
       "  </thead>\n",
       "  <tbody>\n",
       "    <tr>\n",
       "      <th>0</th>\n",
       "      <td>onboarding</td>\n",
       "    </tr>\n",
       "  </tbody>\n",
       "</table>\n",
       "</div>"
      ],
      "text/plain": [
       "  negative_entities\n",
       "0        onboarding"
      ]
     },
     "execution_count": 22,
     "metadata": {},
     "output_type": "execute_result"
    }
   ],
   "source": [
    "# negative entities:\n",
    "query = \"\"\"\n",
    "MATCH (s:Sentiment {value:'negative'})-[:SENTIMENT_IN]->(feeling:Feeling)\n",
    "WITH feeling\n",
    "MATCH (s:Sentiment {value:'negative'})-[:SENTIMENT_IN]->(satisfaction:Satisfaction)\n",
    "WITH feeling, satisfaction\n",
    "MATCH (s:Sentiment {value:'negative'})-[:SENTIMENT_IN]->(suggestion:Suggestion)\n",
    "WITH feeling, satisfaction, suggestion\n",
    "MATCH (satisfaction)<-[r:SKILL_IN]-(d)\n",
    "RETURN DISTINCT d.value AS negative_entities\n",
    "\"\"\"\n",
    "graph.run(query).to_data_frame()"
   ]
  },
  {
   "cell_type": "code",
   "execution_count": 21,
   "id": "eastern-citizen",
   "metadata": {},
   "outputs": [
    {
     "data": {
      "text/html": [
       "<div>\n",
       "<style scoped>\n",
       "    .dataframe tbody tr th:only-of-type {\n",
       "        vertical-align: middle;\n",
       "    }\n",
       "\n",
       "    .dataframe tbody tr th {\n",
       "        vertical-align: top;\n",
       "    }\n",
       "\n",
       "    .dataframe thead th {\n",
       "        text-align: right;\n",
       "    }\n",
       "</style>\n",
       "<table border=\"1\" class=\"dataframe\">\n",
       "  <thead>\n",
       "    <tr style=\"text-align: right;\">\n",
       "      <th></th>\n",
       "      <th>neutral_entities</th>\n",
       "    </tr>\n",
       "  </thead>\n",
       "  <tbody>\n",
       "    <tr>\n",
       "      <th>0</th>\n",
       "      <td>training</td>\n",
       "    </tr>\n",
       "    <tr>\n",
       "      <th>1</th>\n",
       "      <td>impact</td>\n",
       "    </tr>\n",
       "    <tr>\n",
       "      <th>2</th>\n",
       "      <td>valuate</td>\n",
       "    </tr>\n",
       "    <tr>\n",
       "      <th>3</th>\n",
       "      <td>management decision</td>\n",
       "    </tr>\n",
       "    <tr>\n",
       "      <th>4</th>\n",
       "      <td>financial</td>\n",
       "    </tr>\n",
       "    <tr>\n",
       "      <th>5</th>\n",
       "      <td>management</td>\n",
       "    </tr>\n",
       "    <tr>\n",
       "      <th>6</th>\n",
       "      <td>micro management</td>\n",
       "    </tr>\n",
       "    <tr>\n",
       "      <th>7</th>\n",
       "      <td>continuous learning</td>\n",
       "    </tr>\n",
       "  </tbody>\n",
       "</table>\n",
       "</div>"
      ],
      "text/plain": [
       "      neutral_entities\n",
       "0             training\n",
       "1               impact\n",
       "2              valuate\n",
       "3  management decision\n",
       "4            financial\n",
       "5           management\n",
       "6     micro management\n",
       "7  continuous learning"
      ]
     },
     "execution_count": 21,
     "metadata": {},
     "output_type": "execute_result"
    }
   ],
   "source": [
    "# neutral entities:\n",
    "query = \"\"\"\n",
    "MATCH (s:Sentiment {value:'neutral'})-[:SENTIMENT_IN]->(feeling:Feeling)\n",
    "WITH feeling\n",
    "MATCH (s:Sentiment {value:'neutral'})-[:SENTIMENT_IN]->(satisfaction:Satisfaction)\n",
    "WITH feeling, satisfaction\n",
    "MATCH (s:Sentiment {value:'neutral'})-[:SENTIMENT_IN]->(suggestion:Suggestion)\n",
    "WITH feeling, satisfaction, suggestion\n",
    "MATCH (satisfaction)<-[r:SKILL_IN]-(d)\n",
    "RETURN DISTINCT d.value AS neutral_entities\n",
    "\"\"\"\n",
    "graph.run(query).to_data_frame()"
   ]
  },
  {
   "cell_type": "code",
   "execution_count": null,
   "id": "outer-stanley",
   "metadata": {},
   "outputs": [],
   "source": []
  }
 ],
 "metadata": {
  "kernelspec": {
   "display_name": "py38_neo4j",
   "language": "python",
   "name": "conda-env-py38_neo4j-py"
  },
  "language_info": {
   "codemirror_mode": {
    "name": "ipython",
    "version": 3
   },
   "file_extension": ".py",
   "mimetype": "text/x-python",
   "name": "python",
   "nbconvert_exporter": "python",
   "pygments_lexer": "ipython3",
   "version": "3.8.6"
  }
 },
 "nbformat": 4,
 "nbformat_minor": 5
}
